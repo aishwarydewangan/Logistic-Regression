{
 "cells": [
  {
   "cell_type": "code",
   "execution_count": 1,
   "metadata": {},
   "outputs": [],
   "source": [
    "import pandas as pd\n",
    "import numpy as np\n",
    "from sklearn import metrics\n",
    "import matplotlib.pyplot as plt"
   ]
  },
  {
   "cell_type": "code",
   "execution_count": 2,
   "metadata": {},
   "outputs": [],
   "source": [
    "df = pd.read_csv('Dataset/WineQuality/data.csv')\n",
    "\n",
    "training = df.sample(frac = 0.8, random_state = 200)\n",
    "validation = df.drop(training.index)\n",
    "\n",
    "tlabel = training[training.keys()[-1]]\n",
    "vlabel = validation[validation.keys()[-1]]"
   ]
  },
  {
   "cell_type": "code",
   "execution_count": 3,
   "metadata": {},
   "outputs": [],
   "source": [
    "def sigmoid(x):\n",
    "    return 1/(1 + np.exp(-x))"
   ]
  },
  {
   "cell_type": "code",
   "execution_count": 4,
   "metadata": {},
   "outputs": [],
   "source": [
    "def logistic(X, label, beta, classes):\n",
    "    iterations = 300\n",
    "    beta.shape = (classes+1, 1)\n",
    "    Y = np.array(label, dtype = pd.Series)\n",
    "    Y.shape = (len(Y), 1)\n",
    "    Y = Y.astype(float)\n",
    "    alpha = 0.001\n",
    "    for _ in range(iterations):\n",
    "        z = np.matmul(X, beta)\n",
    "        hypo = sigmoid(z)\n",
    "        loss = np.subtract(hypo, Y)\n",
    "        gradient = (alpha/len(Y)) * np.matmul(X.T, loss)\n",
    "        beta -= gradient\n",
    "    beta.shape = (classes+1, )\n",
    "    return beta"
   ]
  },
  {
   "cell_type": "code",
   "execution_count": 5,
   "metadata": {},
   "outputs": [],
   "source": [
    "def prediction(data):\n",
    "    result = sigmoid(np.matmul(data, classifiers.T))\n",
    "    \n",
    "    predicted = []\n",
    "    \n",
    "    for index, row in result.iterrows():\n",
    "        predicted.append(row.idxmax())\n",
    "        \n",
    "    return predicted"
   ]
  },
  {
   "cell_type": "code",
   "execution_count": 6,
   "metadata": {},
   "outputs": [
    {
     "ename": "TypeError",
     "evalue": "ufunc 'matmul' not supported for the input types, and the inputs could not be safely coerced to any supported types according to the casting rule ''safe''",
     "output_type": "error",
     "traceback": [
      "\u001b[0;31m---------------------------------------------------------------------------\u001b[0m",
      "\u001b[0;31mTypeError\u001b[0m                                 Traceback (most recent call last)",
      "\u001b[0;32m<ipython-input-6-6119683259fb>\u001b[0m in \u001b[0;36m<module>\u001b[0;34m()\u001b[0m\n\u001b[1;32m      6\u001b[0m \u001b[0;32mfor\u001b[0m \u001b[0mclassifier\u001b[0m \u001b[0;32min\u001b[0m \u001b[0mrange\u001b[0m\u001b[0;34m(\u001b[0m\u001b[0mnum_of_classes\u001b[0m\u001b[0;34m)\u001b[0m\u001b[0;34m:\u001b[0m\u001b[0;34m\u001b[0m\u001b[0m\n\u001b[1;32m      7\u001b[0m     \u001b[0mlabel_classifier\u001b[0m \u001b[0;34m=\u001b[0m \u001b[0;34m(\u001b[0m\u001b[0mtlabel\u001b[0m \u001b[0;34m==\u001b[0m \u001b[0mclassifier\u001b[0m\u001b[0;34m)\u001b[0m\u001b[0;34m.\u001b[0m\u001b[0mastype\u001b[0m\u001b[0;34m(\u001b[0m\u001b[0mint\u001b[0m\u001b[0;34m)\u001b[0m\u001b[0;34m\u001b[0m\u001b[0m\n\u001b[0;32m----> 8\u001b[0;31m     \u001b[0mclassifiers\u001b[0m\u001b[0;34m[\u001b[0m\u001b[0mclassifier\u001b[0m\u001b[0;34m,\u001b[0m \u001b[0;34m:\u001b[0m\u001b[0;34m]\u001b[0m \u001b[0;34m=\u001b[0m \u001b[0mlogistic\u001b[0m\u001b[0;34m(\u001b[0m\u001b[0mX\u001b[0m\u001b[0;34m,\u001b[0m \u001b[0mlabel_classifier\u001b[0m\u001b[0;34m,\u001b[0m \u001b[0mclassifiers\u001b[0m\u001b[0;34m[\u001b[0m\u001b[0mclassifier\u001b[0m\u001b[0;34m,\u001b[0m \u001b[0;34m:\u001b[0m\u001b[0;34m]\u001b[0m\u001b[0;34m)\u001b[0m\u001b[0;34m\u001b[0m\u001b[0m\n\u001b[0m\u001b[1;32m      9\u001b[0m \u001b[0;34m\u001b[0m\u001b[0m\n\u001b[1;32m     10\u001b[0m \u001b[0mpred\u001b[0m \u001b[0;34m=\u001b[0m \u001b[0mprediction\u001b[0m\u001b[0;34m(\u001b[0m\u001b[0mvalidation\u001b[0m\u001b[0;34m)\u001b[0m\u001b[0;34m\u001b[0m\u001b[0m\n",
      "\u001b[0;32m<ipython-input-4-55ea1accbb5f>\u001b[0m in \u001b[0;36mlogistic\u001b[0;34m(X, label, beta)\u001b[0m\n\u001b[1;32m      7\u001b[0m     \u001b[0malpha\u001b[0m \u001b[0;34m=\u001b[0m \u001b[0;36m0.001\u001b[0m\u001b[0;34m\u001b[0m\u001b[0m\n\u001b[1;32m      8\u001b[0m     \u001b[0;32mfor\u001b[0m \u001b[0m_\u001b[0m \u001b[0;32min\u001b[0m \u001b[0mrange\u001b[0m\u001b[0;34m(\u001b[0m\u001b[0mnum_of_iters\u001b[0m\u001b[0;34m)\u001b[0m\u001b[0;34m:\u001b[0m\u001b[0;34m\u001b[0m\u001b[0m\n\u001b[0;32m----> 9\u001b[0;31m         \u001b[0mz\u001b[0m \u001b[0;34m=\u001b[0m \u001b[0mnp\u001b[0m\u001b[0;34m.\u001b[0m\u001b[0mmatmul\u001b[0m\u001b[0;34m(\u001b[0m\u001b[0mX\u001b[0m\u001b[0;34m,\u001b[0m \u001b[0mbeta\u001b[0m\u001b[0;34m)\u001b[0m\u001b[0;34m\u001b[0m\u001b[0m\n\u001b[0m\u001b[1;32m     10\u001b[0m         \u001b[0mhypo\u001b[0m \u001b[0;34m=\u001b[0m \u001b[0msigmoid\u001b[0m\u001b[0;34m(\u001b[0m\u001b[0mz\u001b[0m\u001b[0;34m)\u001b[0m\u001b[0;34m\u001b[0m\u001b[0m\n\u001b[1;32m     11\u001b[0m         \u001b[0mloss\u001b[0m \u001b[0;34m=\u001b[0m \u001b[0mnp\u001b[0m\u001b[0;34m.\u001b[0m\u001b[0msubtract\u001b[0m\u001b[0;34m(\u001b[0m\u001b[0mhypo\u001b[0m\u001b[0;34m,\u001b[0m \u001b[0mY\u001b[0m\u001b[0;34m)\u001b[0m\u001b[0;34m\u001b[0m\u001b[0m\n",
      "\u001b[0;31mTypeError\u001b[0m: ufunc 'matmul' not supported for the input types, and the inputs could not be safely coerced to any supported types according to the casting rule ''safe''"
     ]
    }
   ],
   "source": [
    "classes = 11\n",
    "\n",
    "x = training.iloc[:, :-1].values\n",
    "\n",
    "ones = np.ones(len(training))\n",
    "\n",
    "X = np.concatenate((ones[:, np.newaxis], x), axis = 1)\n",
    "\n",
    "classifiers = np.zeros(shape = (classes, len(df.keys())))\n",
    "\n",
    "for classifier in range(classes):\n",
    "    label_classifier = (tlabel == classifier).astype(int)\n",
    "    classifiers[classifier, :] = logistic(X, label_classifier, classifiers[classifier, :], classes)\n",
    "\n",
    "pred = prediction(validation)\n",
    "\n",
    "print 'Accuracy: ', str(100 * np.mean(pred == vlabel))"
   ]
  },
  {
   "cell_type": "code",
   "execution_count": null,
   "metadata": {},
   "outputs": [],
   "source": [
    "def logistic_one(X, Y, beta, classes):\n",
    "    Y.shape = (len(Y), 1)\n",
    "    beta.shape = (classes+1, 1)\n",
    "    alpha = 0.001\n",
    "    for _ in range(500):\n",
    "        z = np.matmul(X, beta)\n",
    "        hypo = sigmoid(z)\n",
    "        loss = np.subtract(hypo, Y)\n",
    "        gradient = (alpha/len(Y)) * np.matmul(X.T, loss)\n",
    "        beta -= gradient\n",
    "    beta.shape = (classes+1, )\n",
    "    return beta"
   ]
  },
  {
   "cell_type": "code",
   "execution_count": null,
   "metadata": {},
   "outputs": [],
   "source": [
    "def predict_one(data, classes):\n",
    "    pred = []\n",
    "    for index, row in data.iterrows():\n",
    "        row_wise_pred = [0]* classes\n",
    "        row = row.values\n",
    "        for c in range(len(classifiers)):\n",
    "            classifiers[c].shape = (classes+1, 1)\n",
    "            row.shape = (classes+1, 1)\n",
    "            x = sigmoid(np.matmul(row.T, classifiers[c]))\n",
    "            if x < 0.5:\n",
    "                row_wise_pred[pair_list[c][0]] += 1\n",
    "            else:\n",
    "                row_wise_pred[pair_list[c][1]] += 1\n",
    "        pred.append(np.argmax(row_wise_pred))\n",
    "    return pred"
   ]
  },
  {
   "cell_type": "code",
   "execution_count": null,
   "metadata": {},
   "outputs": [],
   "source": [
    "df = pd.read_csv('Dataset/WineQuality/data.csv')\n",
    "temp = df.iloc[:,:-1]\n",
    "\n",
    "temp = (temp - temp.mean())/temp.std()\n",
    "temp['quality'] = df['quality']\n",
    "df = temp\n",
    "\n",
    "training = df.sample(frac = 0.8, random_state = 200)\n",
    "validation = df.drop(training.index)\n",
    "\n",
    "classes = 11\n",
    "x = training.iloc[:, :-1].values\n",
    "ones = np.ones(len(training))\n",
    "X = np.concatenate((ones[:, np.newaxis], x), axis = 1)\n",
    "\n",
    "tlabel = training['quality']\n",
    "vlabel = validation['quality']\n",
    "\n",
    "unique = tlabel.unique()\n",
    "\n",
    "pair = []\n",
    "\n",
    "for i in range(len(unique)):\n",
    "    for j in range(i+1, len(unique)):\n",
    "        pair.append([unique[i], unique[j]])\n",
    "        \n",
    "classifiers = np.zeros(shape = (len(pair), len(df.keys())))\n",
    "\n",
    "for classifier in range(len(pair)):\n",
    "    xtemp1 = X[tlabel == pair[classifier][0]]\n",
    "    xtemp2 = X[tlabel == pair[classifier][1]]\n",
    "    ytemp1 = tlabel[tlabel == pair[classifier][0]]\n",
    "    ytemp2 = tlabel[tlabel == pair[classifier][1]]\n",
    "    temp_X = np.concatenate((xtemp1, xtemp2))\n",
    "    temp_Y = np.concatenate((ytemp1, ytemp2))\n",
    "    classifiers[classifier, :] = logistic_one(temp_X, temp_Y, classifiers[classifier, :], classes)\n",
    "\n",
    "predicted_one = predict_one(validation)\n",
    "\n",
    "print 'Accuracy: ', str(100 * np.mean(predicted_one == vlabel))"
   ]
  }
 ],
 "metadata": {
  "kernelspec": {
   "display_name": "Python 2",
   "language": "python",
   "name": "python2"
  },
  "language_info": {
   "codemirror_mode": {
    "name": "ipython",
    "version": 2
   },
   "file_extension": ".py",
   "mimetype": "text/x-python",
   "name": "python",
   "nbconvert_exporter": "python",
   "pygments_lexer": "ipython2",
   "version": "2.7.10"
  }
 },
 "nbformat": 4,
 "nbformat_minor": 2
}
