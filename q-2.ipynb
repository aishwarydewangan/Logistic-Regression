{
 "cells": [
  {
   "cell_type": "code",
   "execution_count": 1,
   "metadata": {},
   "outputs": [],
   "source": [
    "import math\n",
    "import random\n",
    "import operator\n",
    "import numpy as np\n",
    "import pandas as pd\n",
    "from pprint import pprint\n",
    "from copy import deepcopy\n",
    "from sklearn import metrics\n",
    "import matplotlib.pyplot as plt"
   ]
  },
  {
   "cell_type": "code",
   "execution_count": 2,
   "metadata": {},
   "outputs": [],
   "source": [
    "df = pd.read_csv(\"Dataset/AdmissionDataset/data.csv\")\n",
    "training = df.sample(frac=0.8, random_state=200)\n",
    "validation = df.drop(training.index)"
   ]
  },
  {
   "cell_type": "code",
   "execution_count": 3,
   "metadata": {},
   "outputs": [],
   "source": [
    "# Remove predict label column and store it somewhere else\n",
    "tlabel = training['Chance of Admit ']\n",
    "training = training.drop('Chance of Admit ',axis = 1)\n",
    "\n",
    "vlabel = validation['Chance of Admit ']\n",
    "validation = validation.drop('Chance of Admit ',axis = 1)"
   ]
  },
  {
   "cell_type": "code",
   "execution_count": 4,
   "metadata": {},
   "outputs": [],
   "source": [
    "# Remove 'Serial No.' Column\n",
    "training = training.drop('Serial No.',axis = 1)\n",
    "\n",
    "validation = validation.drop('Serial No.',axis = 1)"
   ]
  },
  {
   "cell_type": "code",
   "execution_count": 5,
   "metadata": {},
   "outputs": [],
   "source": [
    "# Normalize training and validation data\n",
    "training = (training - training.mean())/training.std()\n",
    "\n",
    "validation = (validation - validation.mean())/validation.std()"
   ]
  },
  {
   "cell_type": "code",
   "execution_count": 6,
   "metadata": {},
   "outputs": [],
   "source": [
    "# Set threshold to 0.5 and value above 0.5 to 1, value below 0.5 to 0\n",
    "tlabel[tlabel >= 0.5] = 1\n",
    "tlabel[tlabel < 0.5] = 0\n",
    "vlabel[vlabel >= 0.5] = 1\n",
    "vlabel[vlabel < 0.5] = 0"
   ]
  },
  {
   "cell_type": "code",
   "execution_count": 7,
   "metadata": {},
   "outputs": [],
   "source": [
    "# Convert to NumPy Array\n",
    "tlabel = [tlabel]\n",
    "tlabel = np.array(tlabel)\n",
    "tlabel = tlabel.T"
   ]
  },
  {
   "cell_type": "code",
   "execution_count": 8,
   "metadata": {},
   "outputs": [],
   "source": [
    "# Appending 1 to training and valiadation data\n",
    "training.insert(0, 'Ones', np.zeros(len(training))+1, allow_duplicates=False)\n",
    "\n",
    "validation.insert(0, 'Ones', np.zeros(len(validation))+1, allow_duplicates=False)"
   ]
  },
  {
   "cell_type": "code",
   "execution_count": 9,
   "metadata": {},
   "outputs": [
    {
     "name": "stdout",
     "output_type": "stream",
     "text": [
      "Accuracy :  0.977777777778\n"
     ]
    }
   ],
   "source": [
    "training = training.values\n",
    "\n",
    "beta = np.zeros((training.shape[1],1))\n",
    "\n",
    "def sigmoid(x):\n",
    "    return 1/(1 + np.exp(-x))\n",
    "\n",
    "def gradient(beta, x, y):\n",
    "    X_beta = np.dot(x, beta)\n",
    "    return np.dot(x.T, sigmoid(X_beta) - y)\n",
    "\n",
    "def gradient_descent(beta, x, learing_rate, threshold, iter_count,y):\n",
    "    m = y.shape[0]\n",
    "    \n",
    "    for i in range(iter_count):\n",
    "        old_beta = deepcopy(beta)\n",
    "        \n",
    "        temp = gradient(beta, x, y)\n",
    "        \n",
    "        beta = beta - (learing_rate * temp / m)\n",
    "            \n",
    "    return beta\n",
    "\n",
    "\n",
    "beta = gradient_descent(beta, training, 0.01, 0.0001, 500, tlabel)\n",
    "\n",
    "predicted = sigmoid(np.array(np.dot(validation, beta)))\n",
    "\n",
    "predicted[predicted >= 0.5] = 1\n",
    "predicted[predicted < 0.5] = 0\n",
    "\n",
    "vlabel = np.array(vlabel).T\n",
    "accuracy = len([1 for x in range(len(vlabel)) if vlabel[x] == predicted[x]])/float(len(vlabel))\n",
    "print 'Accuracy : ', accuracy"
   ]
  },
  {
   "cell_type": "markdown",
   "metadata": {},
   "source": [
    "# Part 2"
   ]
  },
  {
   "cell_type": "code",
   "execution_count": 10,
   "metadata": {},
   "outputs": [],
   "source": [
    "def euclidean(x, y, length):\n",
    "    distance = 0\n",
    "    for i in range(length):\n",
    "        distance = distance + np.square(x[i] - y[i])\n",
    "    return np.sqrt(distance)"
   ]
  },
  {
   "cell_type": "code",
   "execution_count": 11,
   "metadata": {},
   "outputs": [],
   "source": [
    "df = pd.read_csv(\"Dataset/AdmissionDataset/data.csv\")\n",
    "df.loc[df['Chance of Admit '] >= 0.5, 'Chance of Admit '] = 1\n",
    "df.loc[df['Chance of Admit '] < 0.5, 'Chance of Admit '] = 0\n",
    "\n",
    "training = df.sample(frac=0.8, random_state=200)\n",
    "validation = df.drop(training.index)\n",
    "\n",
    "training = training.drop('Serial No.',axis = 1)\n",
    "validation = validation.drop('Serial No.',axis = 1)\n",
    "\n",
    "validation_without_class = validation.iloc[:,0:7]"
   ]
  },
  {
   "cell_type": "code",
   "execution_count": 12,
   "metadata": {},
   "outputs": [],
   "source": [
    "def knn(tdata, vdata, k):\n",
    "    distances = []\n",
    "    length = len(vdata)-1\n",
    "    \n",
    "    for index, rows in tdata.iterrows():\n",
    "        distances.append((rows['Chance of Admit '], euclidean(rows, vdata, length)))\n",
    "    \n",
    "    distances.sort(key=operator.itemgetter(1))\n",
    "    \n",
    "    neighbor = []\n",
    "    for i in range(k):\n",
    "        neighbor.append(distances[i][0])\n",
    "    \n",
    "    Votes = {}\n",
    "    for x in range(len(neighbor)):\n",
    "        response = neighbor[x]\n",
    "        if response in Votes:\n",
    "            Votes[response] += 1\n",
    "        else:\n",
    "            Votes[response] = 1\n",
    "    \n",
    "    sortedVotes = sorted(Votes.items(),key = operator.itemgetter(1),reverse=True)\n",
    "    \n",
    "    return sortedVotes[0][0]"
   ]
  },
  {
   "cell_type": "code",
   "execution_count": 13,
   "metadata": {},
   "outputs": [],
   "source": [
    "def knn_stats():\n",
    "    actual = validation['Chance of Admit '].tolist()\n",
    "\n",
    "    predicted = []\n",
    "\n",
    "    for index, rows in validation_without_class.iterrows():\n",
    "        predicted.append(knn(training, rows, 11))\n",
    "\n",
    "    count = 0\n",
    "\n",
    "    for i in range(len(predicted)):\n",
    "        if predicted[i] == actual[i]:\n",
    "            count = count + 1\n",
    "\n",
    "    accuracy = float(count)/len(actual)\n",
    "\n",
    "    print 'Accuracy: ', accuracy"
   ]
  },
  {
   "cell_type": "code",
   "execution_count": 14,
   "metadata": {},
   "outputs": [
    {
     "name": "stdout",
     "output_type": "stream",
     "text": [
      "Accuracy:  0.966666666667\n"
     ]
    }
   ],
   "source": [
    "knn_stats()"
   ]
  },
  {
   "cell_type": "markdown",
   "metadata": {},
   "source": [
    "# Part 3"
   ]
  },
  {
   "cell_type": "code",
   "execution_count": 15,
   "metadata": {},
   "outputs": [
    {
     "name": "stdout",
     "output_type": "stream",
     "text": [
      "[0.30000000000000004, 0.4, 0.5, 0.6000000000000001, 0.7000000000000001]\n",
      "[0.9555555555555556, 0.9555555555555556, 0.9772727272727273, 0.9879518072289156, 1.0]\n",
      "[1.0, 1.0, 1.0, 0.9534883720930233, 0.7906976744186046]\n"
     ]
    }
   ],
   "source": [
    "def pre_process(threshold):\n",
    "    training = df.sample(frac=0.8,random_state=200)\n",
    "    validation = df.drop(training.index)\n",
    "    \n",
    "    tlabel = training['Chance of Admit ']\n",
    "    training = training.drop('Chance of Admit ', axis=1)\n",
    "    \n",
    "    vlabel = validation['Chance of Admit ']\n",
    "    validation = validation.drop('Chance of Admit ', axis=1)\n",
    "\n",
    "    training = training.drop('Serial No.', axis=1)\n",
    "    validation = validation.drop('Serial No.', axis=1)\n",
    "\n",
    "    training = (training - training.mean())/training.std()\n",
    "    validation = (validation - validation.mean())/validation.std()\n",
    "\n",
    "    tlabel[tlabel >= threshold] = 1\n",
    "    tlabel[tlabel < threshold] = 0\n",
    "    vlabel[vlabel >= threshold] = 1\n",
    "    vlabel[vlabel < threshold] = 0\n",
    "    \n",
    "    tlabel = [tlabel]\n",
    "    tlabel = np.array(tlabel)\n",
    "    vlabel = [vlabel]\n",
    "    vlabel = np.array(vlabel)\n",
    "    tlabel = tlabel.T\n",
    "    \n",
    "    \n",
    "    training.insert(0, 'Ones', np.zeros(len(training))+1, allow_duplicates=False)\n",
    "\n",
    "    validation.insert(0, 'Ones', np.zeros(len(validation))+1, allow_duplicates=False)\n",
    "    \n",
    "    training = training.values\n",
    "    \n",
    "    return training, validation, tlabel, vlabel\n",
    "\n",
    "threshold = []\n",
    "recall = []\n",
    "precision = []\n",
    "accuracy = []\n",
    "\n",
    "for i in range(3,8):\n",
    "    i = i*0.1\n",
    "    train, test, tlabel, vlabel = pre_process(i)\n",
    "    \n",
    "    beta = np.zeros((training.shape[1],1))\n",
    "    beta = gradient_descent(beta, train, 0.01, 0.0001, 500, tlabel)\n",
    "    \n",
    "    test_array = np.dot(test, beta)\n",
    "    test_array = np.array(test_array)\n",
    "    \n",
    "    predicted = sigmoid(test_array)\n",
    "    \n",
    "    for k in range(len(predicted)):\n",
    "        if predicted[k] >= i:\n",
    "            predicted[k] = 1\n",
    "        else:\n",
    "            predicted[k] = 0\n",
    "\n",
    "    vlabel = np.array(vlabel).T\n",
    "    \n",
    "    accuracy.append(metrics.accuracy_score(vlabel, predicted))\n",
    "    \n",
    "    precision.append(metrics.precision_score(vlabel, predicted))\n",
    "    \n",
    "    threshold.append(i)\n",
    "    \n",
    "    recall.append(metrics.recall_score(vlabel, predicted))\n",
    "\n",
    "print(threshold)\n",
    "print(precision)\n",
    "print(recall)"
   ]
  },
  {
   "cell_type": "code",
   "execution_count": 16,
   "metadata": {},
   "outputs": [
    {
     "data": {
      "image/png": "[encoded data removed]",
      "text/plain": [
       "<Figure size 432x288 with 1 Axes>"
      ]
     },
     "metadata": {
      "needs_background": "light"
     },
     "output_type": "display_data"
    }
   ],
   "source": [
    "plt.plot(threshold, precision)\n",
    "\n",
    "plt.xlabel('thresold')\n",
    "plt.ylabel('precision')\n",
    "plt.title('Threshold vs precision')\n",
    "plt.grid(True)\n",
    "\n",
    "plt.show()"
   ]
  },
  {
   "cell_type": "code",
   "execution_count": 17,
   "metadata": {},
   "outputs": [
    {
     "data": {
      "image/png": "[encoded data removed]",
      "text/plain": [
       "<Figure size 432x288 with 1 Axes>"
      ]
     },
     "metadata": {
      "needs_background": "light"
     },
     "output_type": "display_data"
    }
   ],
   "source": [
    "plt.plot(threshold, recall)\n",
    "\n",
    "plt.xlabel('thresold')\n",
    "plt.ylabel('recall')\n",
    "plt.title('Threshold vs recall')\n",
    "plt.grid(True)\n",
    "\n",
    "plt.show()"
   ]
  }
 ],
 "metadata": {
  "kernelspec": {
   "display_name": "Python 2",
   "language": "python",
   "name": "python2"
  },
  "language_info": {
   "codemirror_mode": {
    "name": "ipython",
    "version": 2
   },
   "file_extension": ".py",
   "mimetype": "text/x-python",
   "name": "python",
   "nbconvert_exporter": "python",
   "pygments_lexer": "ipython2",
   "version": "2.7.10"
  }
 },
 "nbformat": 4,
 "nbformat_minor": 2
}
